{
 "cells": [
  {
   "cell_type": "code",
   "execution_count": null,
   "id": "d0f1dfc4",
   "metadata": {},
   "outputs": [],
   "source": [
    "import warnings\n",
    "warnings.simplefilter(action='ignore', category=FutureWarning)"
   ]
  },
  {
   "cell_type": "code",
   "execution_count": 1,
   "id": "e81ec1f2",
   "metadata": {
    "ExecuteTime": {
     "end_time": "2025-05-12T09:05:29.596652Z",
     "start_time": "2025-05-12T09:05:29.294665Z"
    },
    "hide_input": true,
    "init_cell": true
   },
   "outputs": [],
   "source": [
    "from sctoolbox.utils.jupyter import bgcolor"
   ]
  },
  {
   "cell_type": "markdown",
   "id": "02e0b422",
   "metadata": {},
   "source": [
    "# Marker genes and cell type assignment\n",
    "<hr style=\"border:2px solid black\"> </hr>"
   ]
  },
  {
   "cell_type": "markdown",
   "id": "cbb28ac5",
   "metadata": {},
   "source": [
    "<h1><center>⬐ Fill in input data here ⬎</center></h1>"
   ]
  },
  {
   "cell_type": "code",
   "execution_count": 2,
   "id": "f5606282",
   "metadata": {
    "ExecuteTime": {
     "end_time": "2025-05-12T09:05:29.604459Z",
     "start_time": "2025-05-12T09:05:29.598773Z"
    },
    "init_cell": true
   },
   "outputs": [
    {
     "data": {
      "text/html": [
       "<img src onerror=\"\n",
       "                    // select the cell\n",
       "                    let cell = [this.closest('.code_cell,.jp-CodeCell')];\n",
       "                    // select the part of the cell that should be colored (code area)\n",
       "                    let ca = [].slice.call(cell[0].querySelectorAll('.CodeMirror-sizer,.highlight'));\n",
       "                    // change the background color of all selected elements\n",
       "                    ca.forEach(e=>e.style.background='PowderBlue');\n",
       "                    \" style=\"display:none\">"
      ],
      "text/plain": [
       "<IPython.core.display.HTML object>"
      ]
     },
     "metadata": {},
     "output_type": "display_data"
    }
   ],
   "source": [
    "%bgcolor PowderBlue\n",
    "\n",
    "#Final clustering column to use for cell type assignment\n",
    "clustering_col = \"clustering\"\n",
    "\n",
    "#SCSA options\n",
    "species = \"zebrafish\"\n",
    "\n",
    "#Name of column to add with the marker gene predicted celltype\n",
    "celltype_column_name = \"marker_pred_celltype\""
   ]
  },
  {
   "cell_type": "markdown",
   "id": "efd67d29",
   "metadata": {},
   "source": [
    "<hr style=\"border:2px solid black\"> </hr>"
   ]
  },
  {
   "cell_type": "markdown",
   "id": "f5fe7842",
   "metadata": {},
   "source": [
    "## Loading packages"
   ]
  },
  {
   "cell_type": "code",
   "execution_count": null,
   "id": "98c38347",
   "metadata": {},
   "outputs": [],
   "source": [
    "import scanpy as sc\n",
    "import pandas as pd\n",
    "pd.set_option('display.max_columns', None)  #no limit to the number of columns shown\n",
    "import sctoolbox.utils as utils\n",
    "import sctoolbox.tools as tools\n",
    "import sctoolbox.plotting as pl\n",
    "from sctoolbox._settings import settings\n",
    "\n",
    "settings.settings_from_config(\"config.yaml\", key=\"05\")"
   ]
  },
  {
   "cell_type": "code",
   "execution_count": null,
   "id": "9e0baa2c",
   "metadata": {},
   "outputs": [],
   "source": [
    "# marker genes for zebrafish heart cell types\n",
    "marker_genes_dict = pd.read_csv('marker_list.csv', sep='\\t').groupby('cell_name').agg(lambda x: x.tolist())['gene_name'].to_dict()"
   ]
  },
  {
   "cell_type": "markdown",
   "id": "7a9534c2",
   "metadata": {},
   "source": [
    "## Loading adata"
   ]
  },
  {
   "cell_type": "code",
   "execution_count": null,
   "id": "358b2039",
   "metadata": {},
   "outputs": [],
   "source": [
    "adata = utils.adata.load_h5ad(\"anndata_4.h5ad\")\n",
    "display(adata)"
   ]
  },
  {
   "cell_type": "code",
   "execution_count": null,
   "id": "487cffc2",
   "metadata": {},
   "outputs": [],
   "source": [
    "adata.obs"
   ]
  },
  {
   "cell_type": "markdown",
   "id": "8a938ea6",
   "metadata": {},
   "source": [
    "## Check for custom marker genes"
   ]
  },
  {
   "cell_type": "code",
   "execution_count": null,
   "id": "5f4c3973",
   "metadata": {},
   "outputs": [],
   "source": [
    "marker_genes_dict = utils.checker.check_marker_lists(adata, marker_genes_dict)"
   ]
  },
  {
   "cell_type": "markdown",
   "id": "2792f551",
   "metadata": {},
   "source": [
    "--------------"
   ]
  },
  {
   "cell_type": "markdown",
   "id": "f5f1f953",
   "metadata": {},
   "source": [
    "## Automatic markers per cluster using rank_genes_groups"
   ]
  },
  {
   "cell_type": "code",
   "execution_count": null,
   "id": "903d14ad",
   "metadata": {
    "scrolled": true
   },
   "outputs": [],
   "source": [
    "# Identify markers per cluster (adjust group fraction and fold change to filter genes)\n",
    "tools.marker_genes.run_rank_genes(adata, clustering_col,\n",
    "                                 min_in_group_fraction=0.25,\n",
    "                                 min_fold_change=0.5,\n",
    "                                 max_out_group_fraction=0.8)"
   ]
  },
  {
   "cell_type": "code",
   "execution_count": null,
   "id": "3cb4481c",
   "metadata": {},
   "outputs": [],
   "source": [
    "# Plot dotplot of markers\n",
    "_ = pl.marker_genes.rank_genes_plot(adata, key=\"rank_genes_clustering_filtered\", n_genes=15, \n",
    "                                   save=f\"marker_genes_dotplot_{clustering_col}.pdf\")"
   ]
  },
  {
   "cell_type": "code",
   "execution_count": null,
   "id": "59f94b1b",
   "metadata": {},
   "outputs": [],
   "source": [
    "# Write marker genes to table\n",
    "marker_tables = tools.marker_genes.get_rank_genes_tables(adata, out_group_fractions=True,\n",
    "                                                        key=\"rank_genes_clustering_filtered\",\n",
    "                                                        save_excel=f\"rank_genes_{clustering_col}.xlsx\")"
   ]
  },
  {
   "cell_type": "code",
   "execution_count": null,
   "id": "4faf3386",
   "metadata": {},
   "outputs": [],
   "source": [
    "# Markers for cluster \"1\" (change key to access markers for other clusters)\n",
    "marker_tables[\"1\"].head()"
   ]
  },
  {
   "cell_type": "markdown",
   "id": "edf56fd4",
   "metadata": {},
   "source": [
    "---------"
   ]
  },
  {
   "cell_type": "markdown",
   "id": "01bc7c4e",
   "metadata": {},
   "source": [
    "## Automatic cell type prediction with SCSA"
   ]
  },
  {
   "cell_type": "code",
   "execution_count": null,
   "id": "50238114",
   "metadata": {},
   "outputs": [],
   "source": [
    "# Marker list from Marco\n",
    "userDB = '../marker_list.csv'"
   ]
  },
  {
   "cell_type": "code",
   "execution_count": null,
   "id": "79cc678f",
   "metadata": {},
   "outputs": [],
   "source": [
    "tools.celltype_annotation.run_scsa(adata, species=None, user_db=userDB, key='rank_genes_clustering')"
   ]
  },
  {
   "cell_type": "code",
   "execution_count": null,
   "id": "fd426291",
   "metadata": {},
   "outputs": [],
   "source": [
    "pl.embedding.plot_embedding(adata, color=\"SCSA_pred_celltype\", title=\"Automatic celltype assignment\", \n",
    "                            save=\"SCSA_assignment.pdf\")"
   ]
  },
  {
   "cell_type": "markdown",
   "id": "52135b4c",
   "metadata": {},
   "source": [
    "-------"
   ]
  },
  {
   "cell_type": "markdown",
   "id": "9a008f34",
   "metadata": {},
   "source": [
    "## Plot expression of known markers"
   ]
  },
  {
   "cell_type": "code",
   "execution_count": null,
   "id": "6f4d9eec",
   "metadata": {
    "editable": false
   },
   "outputs": [],
   "source": [
    "marker_gene_names = []\n",
    "marker_gene_titles = []\n",
    "for key, genes in marker_genes_dict.items():\n",
    "    if isinstance(genes, str):\n",
    "        genes = [genes]\n",
    "        \n",
    "    for gene in genes:\n",
    "        marker_gene_names.append(gene)\n",
    "        marker_gene_titles.append(f\"{gene} ({key})\")"
   ]
  },
  {
   "cell_type": "code",
   "execution_count": null,
   "id": "96471005",
   "metadata": {},
   "outputs": [],
   "source": [
    "pl.embedding.plot_embedding(adata, method='umap', color=marker_gene_names, title=marker_gene_titles,\n",
    "                  ncols=3,\n",
    "                  save=\"marker_gene_expression_umap.png\", dpi=100)"
   ]
  },
  {
   "cell_type": "markdown",
   "id": "b045b3bb",
   "metadata": {},
   "source": [
    "# Merge clusters"
   ]
  },
  {
   "cell_type": "code",
   "execution_count": null,
   "id": "91266233",
   "metadata": {},
   "outputs": [],
   "source": [
    "# merge clusters 1, 4 and 5 into one cluster\n",
    "reclustering_column = \"clustering\"\n",
    "embedding = 'umap'\n",
    "\n",
    "tools.clustering.recluster(adata, clustering_col, [\"2\", \"4\", \"5\"], task=\"join\", resolution=0.1, embedding=embedding,\n",
    "                            key_added=reclustering_column)"
   ]
  },
  {
   "cell_type": "code",
   "execution_count": null,
   "id": "b37cbbc2",
   "metadata": {},
   "outputs": [],
   "source": [
    "# Identify markers per cluster (adjust group fraction and fold change to filter genes)\n",
    "kwargs = {'key_added': 'rank_genes_groups_2'}  # to keep ranked genes for original clustering\n",
    "tools.marker_genes.run_rank_genes(adata, reclustering_column,\n",
    "                                 min_in_group_fraction=0.25,\n",
    "                                 min_fold_change=0.5,\n",
    "                                 max_out_group_fraction=0.8,\n",
    "                                 **kwargs)"
   ]
  },
  {
   "cell_type": "code",
   "execution_count": null,
   "id": "f3eb07a3",
   "metadata": {
    "scrolled": true
   },
   "outputs": [],
   "source": [
    "# deal with bug in run_rank_genes -> if other key_added is used, the codes is still hardcoded for rank_genes_groups\n",
    "adata.uns['rank_genes_clustering_2'] = adata.uns['rank_genes_groups_2']\n",
    "\n",
    "# filter\n",
    "sc.tl.filter_rank_genes_groups(adata, key='rank_genes_clustering_2',\n",
    "                               groupby=reclustering_column,\n",
    "                               min_in_group_fraction=0.25,\n",
    "                               min_fold_change=0.5,\n",
    "                               max_out_group_fraction=0.8, key_added='rank_genes_clustering_2_filtered')"
   ]
  },
  {
   "cell_type": "code",
   "execution_count": null,
   "id": "702de09b",
   "metadata": {},
   "outputs": [],
   "source": [
    "# Plot dotplot of markers\n",
    "_ = pl.marker_genes.rank_genes_plot(adata, key=\"rank_genes_clustering_2_filtered\", n_genes=15, \n",
    "                       save=f\"marker_genes_dotplot_{reclustering_column}.pdf\")"
   ]
  },
  {
   "cell_type": "code",
   "execution_count": null,
   "id": "aa385343",
   "metadata": {},
   "outputs": [],
   "source": [
    "adata.obs['celltypes'] = adata.obs['SCSA_pred_celltype']\n",
    "adata.obs['celltypes'] = adata.obs['celltypes'].astype(str)"
   ]
  },
  {
   "cell_type": "code",
   "execution_count": null,
   "id": "4f50a6ee",
   "metadata": {},
   "outputs": [],
   "source": [
    "# rename clusters 1,2,6 after merge to Myocardium\n",
    "adata.obs.loc[adata.obs['SCSA_pred_celltype'] == 'Myocardium - Atrium', 'celltypes'] = 'Myocardium'\n",
    "adata.obs.loc[adata.obs['SCSA_pred_celltype'] == 'Myocardium - Ventricle', 'celltypes'] = 'Myocardium'\n",
    "adata.obs.loc[adata.obs['SCSA_pred_celltype'] == 'Nervous system - 2', 'celltypes'] = 'Myocardium'\n",
    "\n",
    "# change to categorical\n",
    "adata.obs['celltypes'] = pd.Categorical(adata.obs['celltypes'])"
   ]
  },
  {
   "cell_type": "markdown",
   "id": "6e139e87",
   "metadata": {},
   "source": [
    "### Add manual annotation"
   ]
  },
  {
   "cell_type": "code",
   "execution_count": null,
   "id": "4f8a2838",
   "metadata": {},
   "outputs": [],
   "source": [
    "# import annotation from cellxgene\n",
    "annot = pd.read_csv(\"../test-cell-labels-ZB3TYJAL.csv\", header=2, names=['index', 'celltype']).set_index('index')\n",
    "# add annotation to adata\n",
    "adata.obs['celltype_manual'] = adata.obs.index.map(annot['celltype'].to_dict())\n",
    "adata.obs['celltype_manual'] = pd.Categorical(adata.obs['celltype_manual'])\n",
    "# rename Blood - Immune cells to Other cell types\n",
    "adata.obs['celltype_manual'] = adata.obs['celltype_manual'].cat.rename_categories({'Blood - Immune cells': 'Other cell types'})"
   ]
  },
  {
   "cell_type": "markdown",
   "id": "d2759c73",
   "metadata": {},
   "source": [
    "### Plot new celltypes"
   ]
  },
  {
   "cell_type": "code",
   "execution_count": null,
   "id": "c72c2a16",
   "metadata": {},
   "outputs": [],
   "source": [
    "pl.embedding.plot_embedding(adata, color=\"celltypes\", title=\"Cell types\", \n",
    "                            save=\"SCSA_mod_assignment.pdf\")"
   ]
  },
  {
   "cell_type": "code",
   "execution_count": null,
   "id": "f347ab4e",
   "metadata": {},
   "outputs": [],
   "source": [
    "pl.embedding.plot_embedding(adata, color=\"celltype_manual\", title=\"Cell types\", \n",
    "                            save=\"manual_celltype_assignment.pdf\")"
   ]
  },
  {
   "cell_type": "markdown",
   "id": "e05e94d9",
   "metadata": {},
   "source": [
    "### Assign celltypes based on markers"
   ]
  },
  {
   "cell_type": "code",
   "execution_count": null,
   "id": "0dbe9cc4",
   "metadata": {},
   "outputs": [],
   "source": [
    "sc.tl.dendrogram(adata, clustering_col)\n",
    "_ = pl.clustering.marker_gene_clustering(adata, clustering_col, marker_genes_dict, \n",
    "                                          save=\"marker_gene_expression_dotplot.png\")"
   ]
  },
  {
   "cell_type": "code",
   "execution_count": null,
   "id": "802da3b3",
   "metadata": {
    "scrolled": true
   },
   "outputs": [],
   "source": [
    "sc.pl.dotplot(adata, marker_genes_dict, groupby=clustering_col, show=True, dendrogram=True)"
   ]
  },
  {
   "cell_type": "code",
   "execution_count": null,
   "id": "c23f9170",
   "metadata": {
    "scrolled": true
   },
   "outputs": [],
   "source": [
    "pl.embedding.plot_embedding(adata, color=[\"celltype_manual\", \"timepoint\", \"phase\"], ncols=2,\n",
    "                            save=\"UMAP_celltype_timepoint_phase.pdf\", wspace=0.3)"
   ]
  },
  {
   "cell_type": "code",
   "execution_count": null,
   "id": "e94a388d",
   "metadata": {},
   "outputs": [],
   "source": [
    "adata = utils.adata.load_h5ad(\"anndata_5.h5ad\")\n",
    "display(adata)"
   ]
  },
  {
   "cell_type": "code",
   "execution_count": null,
   "id": "08edda60",
   "metadata": {},
   "outputs": [],
   "source": [
    "neuregulins = ['nrg1', 'nrg2a', 'nrg2b', 'nrg3b', 'erbb2', 'erbb3a', 'erbb3b', 'erbb4b']"
   ]
  },
  {
   "cell_type": "code",
   "execution_count": null,
   "id": "347f9752",
   "metadata": {
    "scrolled": true
   },
   "outputs": [],
   "source": [
    "sc.pl.umap(adata, color=neuregulins,\n",
    "           vmin=0., vmax=1., show=False, cmap='Blues', ncols=3)\n",
    "pl.general._save_figure(\"neuregulins_expression_umap.pdf\", dpi=300)"
   ]
  },
  {
   "cell_type": "code",
   "execution_count": null,
   "id": "17cddf5a",
   "metadata": {},
   "outputs": [],
   "source": [
    "ax = sc.pl.dotplot(adata, neuregulins, 'timepoint', cmap='Blues', show=False)\n",
    "ax['mainplot_ax'].set_xticks(ax['mainplot_ax'].get_xticks(), ax['mainplot_ax'].get_xticklabels(),\n",
    "                             fontstyle='italic', fontsize=12)\n",
    "ax['mainplot_ax'].set_yticks(ax['mainplot_ax'].get_yticks(), ax['mainplot_ax'].get_yticklabels(), fontsize=12)\n",
    "\n",
    "pl.general._save_figure(f\"neuregulins_expression_timepoint_heatmap.pdf\")"
   ]
  },
  {
   "cell_type": "code",
   "execution_count": null,
   "id": "632b5344",
   "metadata": {},
   "outputs": [],
   "source": [
    "ax = sc.pl.dotplot(adata, neuregulins, 'celltype_manual', cmap='Blues', show=False)\n",
    "ax['mainplot_ax'].set_xticks(ax['mainplot_ax'].get_xticks(), ax['mainplot_ax'].get_xticklabels(),\n",
    "                             fontstyle='italic', fontsize=12)\n",
    "ax['mainplot_ax'].set_yticks(ax['mainplot_ax'].get_yticks(), ax['mainplot_ax'].get_yticklabels(), fontsize=12)\n",
    "\n",
    "pl.general._save_figure(f\"neuregulins_expression_clusters_heatmap.pdf\")"
   ]
  },
  {
   "cell_type": "markdown",
   "id": "40f33740",
   "metadata": {},
   "source": [
    "-------------"
   ]
  },
  {
   "cell_type": "markdown",
   "id": "3c0070f9",
   "metadata": {},
   "source": [
    "## Save adata"
   ]
  },
  {
   "cell_type": "code",
   "execution_count": null,
   "id": "c4b3a320",
   "metadata": {
    "editable": false
   },
   "outputs": [],
   "source": [
    "#fix error when saving filtered rank gene names\n",
    "import re\n",
    "for key in list(adata.uns.keys()):\n",
    "    if re.match(\"rank_genes_.*_filtered\", key):\n",
    "        del adata.uns[key]"
   ]
  },
  {
   "cell_type": "code",
   "execution_count": null,
   "id": "610bce07",
   "metadata": {
    "editable": false
   },
   "outputs": [],
   "source": [
    "adata"
   ]
  },
  {
   "cell_type": "code",
   "execution_count": null,
   "id": "2ee4c529",
   "metadata": {},
   "outputs": [],
   "source": [
    "del adata.uns['sctoolbox']['log']['plot_embedding']['run_2']['kwargs']['cmap']"
   ]
  },
  {
   "cell_type": "code",
   "execution_count": null,
   "id": "8abc5688",
   "metadata": {},
   "outputs": [],
   "source": [
    "utils.adata.save_h5ad(adata, \"anndata_5.h5ad\")"
   ]
  },
  {
   "cell_type": "markdown",
   "id": "fa38e37b",
   "metadata": {},
   "source": [
    "## Prepare for cellxgene"
   ]
  },
  {
   "cell_type": "code",
   "execution_count": null,
   "id": "8977c229",
   "metadata": {},
   "outputs": [],
   "source": [
    "# add timepoints_ordered for cellxgene\n",
    "times = adata.obs['timepoint'].unique().to_list()\n",
    "points = list(range(1, 11))\n",
    "time_points = dict(zip(times, [f'tp0{x}_{y}' if x < 10 else f'tp{x}_{y}' for x, y in zip(points, times)]))\n",
    "adata.obs['timepoints_ordered'] = adata.obs['timepoint'].map(time_points)\n",
    "adata.obs['timepoints_ordered'] = pd.Categorical(adata.obs['timepoints_ordered'])"
   ]
  },
  {
   "cell_type": "code",
   "execution_count": null,
   "id": "5cb32353",
   "metadata": {},
   "outputs": [],
   "source": [
    "adata = utils.adata.prepare_for_cellxgene(adata, keep_obs=None, keep_var=None,\n",
    "                                          rename_obs=None, rename_var=None,\n",
    "                                          embedding_names=['pca', 'umap', 'tsne'], cmap='viridis', inplace=False)"
   ]
  },
  {
   "cell_type": "code",
   "execution_count": null,
   "id": "b4b64bdf",
   "metadata": {},
   "outputs": [],
   "source": [
    "utils.adata.save_h5ad(adata, \"anndata_5_cellxgene.h5ad\")"
   ]
  }
 ],
 "metadata": {
  "kernelspec": {
   "display_name": "sctoolbox",
   "language": "python",
   "name": "sctoolbox"
  },
  "language_info": {
   "codemirror_mode": {
    "name": "ipython",
    "version": 3
   },
   "file_extension": ".py",
   "mimetype": "text/x-python",
   "name": "python",
   "nbconvert_exporter": "python",
   "pygments_lexer": "ipython3",
   "version": "3.12.9"
  }
 },
 "nbformat": 4,
 "nbformat_minor": 5
}

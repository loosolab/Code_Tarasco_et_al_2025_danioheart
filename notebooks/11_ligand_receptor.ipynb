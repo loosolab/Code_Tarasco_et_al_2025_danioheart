{
 "cells": [
  {
   "cell_type": "code",
   "execution_count": null,
   "id": "41a19f00",
   "metadata": {},
   "outputs": [],
   "source": [
    "import scanpy as sc\n",
    "import pandas as pd\n",
    "import numpy as np\n",
    "pd.set_option('display.max_columns', None)  #no limit to the number of columns shown\n",
    "import sctoolbox.utils as utils\n",
    "import sctoolbox.tools as tools\n",
    "import sctoolbox.plotting as pl\n",
    "import sctoolbox.tools.receptor_ligand as rl\n",
    "from sctoolbox import settings\n",
    "settings.settings_from_config(\"config.yaml\", key=\"11\")"
   ]
  },
  {
   "cell_type": "markdown",
   "id": "2a862666",
   "metadata": {},
   "source": [
    "__Use `help(<function_name>)` for information on the parameters. E.g. `help(rl.download_db)`__"
   ]
  },
  {
   "cell_type": "markdown",
   "id": "e3a061eb",
   "metadata": {},
   "source": [
    "------------------"
   ]
  },
  {
   "cell_type": "code",
   "execution_count": null,
   "id": "957ca4fc",
   "metadata": {},
   "outputs": [],
   "source": [
    "# Path to receptor ligand database\n",
    "db_path = '/mnt/flatfiles/receptor_ligand/zebrafish_rl_db_cellchat.txt'\n",
    "\n",
    "# Comput interactions\n",
    "cluster_col = \"clustering\"\n",
    "normalize = 1000 # Correct clusters to given size.\n",
    "gene_col = None # Column that holds gene name /id. Set to None to use index\n",
    "overwrite = False # Overwrite existing interaction table\n",
    "\n",
    "# Plotting\n",
    "\n",
    "dpi = 100\n",
    "\n",
    "## Violin\n",
    "violin_min_perc = 0 # Minimum percentage of cells in a cluster that express the respective gene.\n",
    "violin_out_suffix = \"violin\" # Suffix of output file\n",
    "violin_figsize = (5, 30) # Figure size\n",
    "\n",
    "## Network\n",
    "net_min_perc = 0 # Minimum percentage of cells in a cluster that express the respective gene.\n",
    "net_interaction_score = 0 # Interaction score must be above this threshold for the interaction to be counted in the graph.\n",
    "net_interaction_perc = 0 # Select interaction scores above or equal to the given percentile. Will overwrite parameter interaction_score.\n",
    "net_out_suffix = \"network\" # Suffix of output file\n",
    "net_title = None # Plot title\n",
    "net_color_min = 0 # Min value for color range\n",
    "net_color_max = None # Max value for color range\n",
    "net_restrict_to = [] # Only show given clusters provided in list.\n",
    "net_show_count = True # Show the interaction count\n",
    "# cyclone specific parameters\n",
    "net_directional = False # Show the direction of the interactions (ligand -> receptor)\n",
    "net_sector_size_is_cluster_size = False # Sector width is based on number of cells\n",
    "net_show_genes = True # Show the top receptor & ligand genes for each cluster\n",
    "net_gene_amount = 5 # The amount of top receptor & ligand genes that are shown for each cluster\n",
    "\n",
    "## Connection plot\n",
    "con_restrict_to = None # Restrict plot to given cluster names.\n",
    "con_figsize = (5, 10) # Figure size\n",
    "con_out_suffix=\"connectionPlot\" # Suffix of output file\n",
    "con_title = None # Plot title\n",
    "con_filter = \"receptor_score > 0 & ligand_score > 0 & interaction_score > 0 & receptor_percent >= 50 & ligand_percent >= 50\" # Conditions to filter the interaction table\n",
    "con_lw_multiplier = 2 # Linewidth multiplier\n",
    "con_wspace = 0.4 # Width between plots\n",
    "\n",
    "## Filter for interaction table\n",
    "tab_min_perc = 0\n",
    "tab_interaction_score = 0\n",
    "tab_interaction_perc = 0\n",
    "tab_out_suffix = \"interaction_table\"\n",
    "group_a = None\n",
    "group_b = None"
   ]
  },
  {
   "cell_type": "code",
   "execution_count": null,
   "id": "87e49b6f",
   "metadata": {
    "scrolled": true
   },
   "outputs": [],
   "source": [
    "def filter_cyclone(adata, interactions_table, min_count):\n",
    "    \"\"\"\n",
    "    Filter interactions between clusters that have less than min_count\n",
    "    \"\"\"\n",
    "    adata_tmp = adata.copy()\n",
    "    \n",
    "    cluster_col_list = [\"receptor_cluster\", \"ligand_cluster\"]\n",
    "\n",
    "    interactions_directed = pd.DataFrame(\n",
    "        interactions_table[cluster_col_list].value_counts(),\n",
    "        columns=[\"count\"]\n",
    "    )\n",
    "\n",
    "    interactions_directed.reset_index(inplace=True)\n",
    "\n",
    "    # Adds the number of interactions for each pair of receptor and ligand\n",
    "    # if they should be displayed non directional.\n",
    "\n",
    "    # e.g.: ligand A interacts with receptor B five times\n",
    "    #       and ligand B interacts with receptor A ten times\n",
    "    #       therefore A and B interact fifteen times non directional\n",
    "    interactions_undirected = interactions_directed.copy()\n",
    "\n",
    "    # First, make sure each edge is represented in the same way, by sorting the two ends\n",
    "    interactions_undirected[cluster_col_list] = np.sort(\n",
    "        interactions_undirected[cluster_col_list].values,\n",
    "        axis=1\n",
    "    )\n",
    "\n",
    "    # Then, you can group by the two columns and sum the connections\n",
    "    interactions_undirected = interactions_undirected.groupby(cluster_col_list)[\"count\"].sum().reset_index()\n",
    "    # <<< OpenAI GPT-4 supported\n",
    "\n",
    "    interactions = interactions_undirected\n",
    "    filtered = interactions[interactions['count'] > min_count]\n",
    "    # remove intra-connections\n",
    "    filtered = filtered[filtered['receptor_cluster'] != filtered['ligand_cluster']]\n",
    "    filtered = filtered[['receptor_cluster', 'ligand_cluster']].values\n",
    "    filtered = [(a, b) for a, b in filtered]\n",
    "    \n",
    "    to_keep = []\n",
    "    for index, row in interactions_table.iterrows():\n",
    "        if (row['receptor_cluster'], row['ligand_cluster']) in filtered or (row['ligand_cluster'], row['receptor_cluster']) in filtered:\n",
    "            to_keep.append(index)\n",
    "    \n",
    "    adata_tmp.uns[\"receptor-ligand\"][\"interactions\"] = interactions_table.iloc[to_keep]\n",
    "    \n",
    "    return adata_tmp"
   ]
  },
  {
   "cell_type": "markdown",
   "id": "0b949b6b",
   "metadata": {},
   "source": [
    "# Endocardium sub-clusters"
   ]
  },
  {
   "cell_type": "markdown",
   "id": "b1c7691c",
   "metadata": {},
   "source": [
    "## Load data\n",
    "The dataset must be clustered for a receptor-ligand analysis."
   ]
  },
  {
   "cell_type": "code",
   "execution_count": null,
   "id": "cd45e497",
   "metadata": {},
   "outputs": [],
   "source": [
    "adata_endo = utils.adata.load_h5ad(\"anndata_5_Endocardium_sub_clusters.h5ad\")\n",
    "display(adata_endo)"
   ]
  },
  {
   "cell_type": "code",
   "execution_count": null,
   "id": "32056358",
   "metadata": {},
   "outputs": [],
   "source": [
    "# Visualize cells in UMAP\n",
    "sc.pl.umap(adata_endo, color = ['sub_clusters'], title = [], legend_loc = 'right margin')"
   ]
  },
  {
   "cell_type": "markdown",
   "id": "8d234315",
   "metadata": {},
   "source": [
    "## Download receptor-ligand database\n",
    "Provide a path to a table with receptor-ligand interactions. Will be stored in the adata object (`adata.uns['receptor-ligand]['database']`)."
   ]
  },
  {
   "cell_type": "code",
   "execution_count": null,
   "id": "e16291e6",
   "metadata": {},
   "outputs": [],
   "source": [
    "rl.download_db(adata=adata_endo,\n",
    "               db_path='/mnt/flatfiles/receptor_ligand/zebrafish_rl_db_cellchat.txt',\n",
    "               ligand_column='ligand',\n",
    "               receptor_column='receptor',\n",
    "               inplace=True,\n",
    "               overwrite=True)"
   ]
  },
  {
   "cell_type": "markdown",
   "id": "ae0934e8",
   "metadata": {
    "code_folding": []
   },
   "source": [
    "## Compute interactions\n",
    "Create a table of receptor-ligand interactions between given groups. This table is used for plotting. Will be stored in the adata object (`adata.uns['receptor-ligand']['interactions']`)"
   ]
  },
  {
   "cell_type": "markdown",
   "id": "21fc3bc2",
   "metadata": {},
   "source": [
    "### Clusters"
   ]
  },
  {
   "cell_type": "code",
   "execution_count": null,
   "id": "49132f76",
   "metadata": {},
   "outputs": [],
   "source": [
    "rl.calculate_interaction_table(adata=adata_endo,\n",
    "                               cluster_column=\"sub_clusters\",\n",
    "                               gene_index=None,\n",
    "                               normalize=1000,\n",
    "                               inplace=True,\n",
    "                               overwrite=False)"
   ]
  },
  {
   "cell_type": "markdown",
   "id": "6fcae646",
   "metadata": {},
   "source": [
    "# Plotting"
   ]
  },
  {
   "cell_type": "markdown",
   "id": "9f075f5e",
   "metadata": {},
   "source": [
    "## Violin\n",
    "Show the distribution of interaction scores for all group combinations.\n",
    "\n",
    "Scores `> 0` can be interpreted as receptor-ligand interactions enriched for group combination.  \n",
    "Scores `< 0` can be interpreted as receptor-ligand interactions depleted for group combination."
   ]
  },
  {
   "cell_type": "code",
   "execution_count": null,
   "id": "35a60053",
   "metadata": {
    "scrolled": true
   },
   "outputs": [],
   "source": [
    "rl.interaction_violin_plot(adata_endo,\n",
    "                           min_perc=violin_min_perc,\n",
    "                           save=f\"rl_{violin_out_suffix}_endo.pdf\",\n",
    "                           figsize=violin_figsize,\n",
    "                           dpi=dpi)"
   ]
  },
  {
   "cell_type": "markdown",
   "id": "cb6ca70d",
   "metadata": {},
   "source": [
    "## Network\n",
    "Show a network graph of number of interactions between groups."
   ]
  },
  {
   "cell_type": "code",
   "execution_count": null,
   "id": "43bfa003",
   "metadata": {},
   "outputs": [],
   "source": [
    "rl.hairball(adata_endo,\n",
    "        min_perc=net_min_perc,\n",
    "        interaction_score=net_interaction_score,\n",
    "        interaction_perc=net_interaction_perc,\n",
    "        save=f\"rl_{net_out_suffix}_endo.pdf\",\n",
    "        title=net_title,\n",
    "        color_min=net_color_min,\n",
    "        color_max=net_color_max,\n",
    "        restrict_to=net_restrict_to,\n",
    "        show_count=net_show_count\n",
    "       )"
   ]
  },
  {
   "cell_type": "markdown",
   "id": "fbc63b48",
   "metadata": {},
   "source": [
    "## Receptor-ligand connections\n",
    "Show a detailed view on receptor-ligand pairs and their strength between groups.\n",
    "\n",
    "- __receptor-/ ligand score__: Gene enriched (`> 0`) or depleted (`< 0`) for specific group.\n",
    "- __receptor-/ ligand percent__: Percent of cells in a group expressing gene.\n",
    "- __interaction score__: receptor-ligand pair enriched (`> 0`) or depleted (`< 0`) between groups."
   ]
  },
  {
   "cell_type": "code",
   "execution_count": null,
   "id": "b883665f",
   "metadata": {},
   "outputs": [],
   "source": [
    "con_filter = \"receptor_score > 0 & ligand_score > 0 & interaction_score > 0 & receptor_percent >= 50 & ligand_percent >= 50\" # Conditions to filter the interaction table\n",
    "\n",
    "rl.connectionPlot(adata=adata_endo, \n",
    "                  restrict_to=con_restrict_to,\n",
    "                  figsize=con_figsize,\n",
    "                  dpi=dpi,\n",
    "                  connection_alpha=\"interaction_score\",\n",
    "                  save=f\"rl_{con_out_suffix}_endo_subclusters.pdf\",\n",
    "                  title=con_title,\n",
    "                  receptor_cluster_col=\"receptor_cluster\",\n",
    "                  receptor_col=\"receptor_gene\",\n",
    "                  receptor_hue=\"receptor_score\",\n",
    "                  receptor_size=\"receptor_percent\",\n",
    "                  ligand_cluster_col=\"ligand_cluster\",\n",
    "                  ligand_col=\"ligand_gene\",\n",
    "                  ligand_hue=\"ligand_score\",\n",
    "                  ligand_size=\"ligand_percent\",\n",
    "                  filter=con_filter,\n",
    "                  lw_multiplier=con_lw_multiplier,\n",
    "                  wspace=con_wspace,\n",
    "                  line_colors=\"rainbow\")"
   ]
  },
  {
   "cell_type": "code",
   "execution_count": null,
   "id": "0d8e7ffe",
   "metadata": {},
   "outputs": [],
   "source": [
    "interaction_table = rl.get_interactions(adata_endo,\n",
    "                                        min_perc = tab_min_perc,\n",
    "                                        interaction_score = tab_interaction_score,\n",
    "                                        interaction_perc = tab_interaction_perc,\n",
    "                                        save = f\"rl_{tab_out_suffix}_endo_subclusters.tsv\")\n",
    "interaction_table.reset_index(drop=True, inplace=True)\n",
    "interaction_table"
   ]
  },
  {
   "cell_type": "code",
   "execution_count": null,
   "id": "a81c87a0",
   "metadata": {},
   "outputs": [],
   "source": [
    "_ = rl.cyclone(adata=adata_endo,\n",
    "               min_perc=net_min_perc,\n",
    "               interaction_score=net_interaction_score,\n",
    "               interaction_perc=net_interaction_perc,\n",
    "               #save=f\"rl_cyclone_{net_out_suffix}_endo_subclusters.pdf\",\n",
    "               color_min=net_color_min,\n",
    "               color_max=net_color_max,\n",
    "               title=net_title,\n",
    "               directional=net_directional,\n",
    "               sector_size_is_cluster_size=net_sector_size_is_cluster_size,\n",
    "               show_genes=net_show_genes,\n",
    "               gene_amount=net_gene_amount,\n",
    "               dpi=300, figsize=(10, 10), sector_text_size=10\n",
    ")"
   ]
  },
  {
   "cell_type": "code",
   "execution_count": null,
   "id": "6beb1f5c",
   "metadata": {},
   "outputs": [],
   "source": [
    "# exclude intra-connections and connections with count < 500\n",
    "endo_filtered = filter_cyclone(adata_endo, interaction_table, min_count=500)"
   ]
  },
  {
   "cell_type": "code",
   "execution_count": null,
   "id": "21ada876",
   "metadata": {},
   "outputs": [],
   "source": [
    "_ = rl.cyclone(adata=endo_filtered,\n",
    "               min_perc=net_min_perc,\n",
    "               interaction_score=net_interaction_score,\n",
    "               interaction_perc=net_interaction_perc,\n",
    "               save=f\"rl_cyclone_{net_out_suffix}_endo_subclusters.pdf\",\n",
    "               color_min=500,\n",
    "               color_max=net_color_max,\n",
    "               title=net_title,\n",
    "               directional=net_directional,\n",
    "               sector_size_is_cluster_size=net_sector_size_is_cluster_size,\n",
    "               show_genes=net_show_genes,\n",
    "               gene_amount=net_gene_amount,\n",
    "               dpi=300, figsize=(10, 10), sector_text_size=10\n",
    ")"
   ]
  },
  {
   "cell_type": "code",
   "execution_count": null,
   "id": "f20e717f",
   "metadata": {},
   "outputs": [],
   "source": [
    "_ = rl.cyclone(adata=endo_filtered,\n",
    "               min_perc=net_min_perc,\n",
    "               interaction_score=net_interaction_score,\n",
    "               interaction_perc=net_interaction_perc,\n",
    "               save=f\"rl_cyclone_{net_out_suffix}_endo_subclusters_nogene.pdf\",\n",
    "               color_min=500,\n",
    "               color_max=net_color_max,\n",
    "               title=net_title,\n",
    "               directional=net_directional,\n",
    "               sector_size_is_cluster_size=net_sector_size_is_cluster_size,\n",
    "               show_genes=False,\n",
    "               gene_amount=net_gene_amount,\n",
    "               dpi=300, figsize=(10, 10), sector_text_size=10, colormap='Blues'\n",
    ")"
   ]
  },
  {
   "cell_type": "code",
   "execution_count": null,
   "id": "73406be0",
   "metadata": {},
   "outputs": [],
   "source": [
    "interaction_table = rl.get_interactions(endo_filtered,\n",
    "                                        min_perc = tab_min_perc,\n",
    "                                        interaction_score = tab_interaction_score,\n",
    "                                        interaction_perc = tab_interaction_perc,\n",
    "                                        save = f\"rl_{tab_out_suffix}_endo_subclusters_filtered.tsv\")\n",
    "interaction_table.reset_index(drop=True, inplace=True)\n",
    "interaction_table"
   ]
  },
  {
   "cell_type": "markdown",
   "id": "59167f5d",
   "metadata": {},
   "source": [
    "# Myocardium"
   ]
  },
  {
   "cell_type": "markdown",
   "id": "a0342e24",
   "metadata": {},
   "source": [
    "## Load data\n",
    "The dataset must be clustered for a receptor-ligand analysis."
   ]
  },
  {
   "cell_type": "code",
   "execution_count": null,
   "id": "0024072e",
   "metadata": {},
   "outputs": [],
   "source": [
    "adata_myo_full = utils.adata.load_h5ad(\"anndata_5_Myocardium_sub_clusters_annotated.h5ad\")\n",
    "# subset\n",
    "adata_myo = adata_myo_full[adata_myo_full.obs['celltypes'].isin(['Atrium', 'Ventricle'])]\n",
    "\n",
    "display(adata_myo)"
   ]
  },
  {
   "cell_type": "code",
   "execution_count": null,
   "id": "75bf6102",
   "metadata": {},
   "outputs": [],
   "source": [
    "# Visualize cells in UMAP\n",
    "sc.pl.umap(adata_myo_full, color = ['celltypes', 'sub_clusters'], title = [], legend_loc = 'right margin')"
   ]
  },
  {
   "cell_type": "markdown",
   "id": "70d76a8c",
   "metadata": {},
   "source": [
    "## Download receptor-ligand database\n",
    "Provide a path to a table with receptor-ligand interactions. Will be stored in the adata object (`adata.uns['receptor-ligand]['database']`)."
   ]
  },
  {
   "cell_type": "code",
   "execution_count": null,
   "id": "7c5dadce",
   "metadata": {},
   "outputs": [],
   "source": [
    "adata_myo_full_sub = adata_myo_full[~adata_myo_full.obs['sub_clusters'].isin(['8'])]\n",
    "adata_myo_full_sub.obs['sub_clusters'].unique()"
   ]
  },
  {
   "cell_type": "code",
   "execution_count": null,
   "id": "e62b60d1",
   "metadata": {},
   "outputs": [],
   "source": [
    "rl.download_db(adata=adata_myo_full,\n",
    "               db_path='/mnt/flatfiles/receptor_ligand/zebrafish_rl_db_cellchat.txt',\n",
    "               ligand_column='ligand',\n",
    "               receptor_column='receptor',\n",
    "               inplace=True,\n",
    "               overwrite=True)"
   ]
  },
  {
   "cell_type": "markdown",
   "id": "3d6b73fd",
   "metadata": {
    "code_folding": []
   },
   "source": [
    "## Compute interactions\n",
    "Create a table of receptor-ligand interactions between given groups. This table is used for plotting. Will be stored in the adata object (`adata.uns['receptor-ligand']['interactions']`)"
   ]
  },
  {
   "cell_type": "markdown",
   "id": "f2035e3d",
   "metadata": {},
   "source": [
    "### Clusters"
   ]
  },
  {
   "cell_type": "code",
   "execution_count": null,
   "id": "1b3c3452",
   "metadata": {},
   "outputs": [],
   "source": [
    "rl.calculate_interaction_table(adata=adata_myo_full,\n",
    "                               cluster_column=\"sub_clusters\",\n",
    "                               gene_index=None,\n",
    "                               normalize=1000,\n",
    "                               inplace=True,\n",
    "                               overwrite=False)"
   ]
  },
  {
   "cell_type": "markdown",
   "id": "d883d6b3",
   "metadata": {},
   "source": [
    "# Plotting"
   ]
  },
  {
   "cell_type": "markdown",
   "id": "5bd6b8f8",
   "metadata": {},
   "source": [
    "## Violin\n",
    "Show the distribution of interaction scores for all group combinations.\n",
    "\n",
    "Scores `> 0` can be interpreted as receptor-ligand interactions enriched for group combination.  \n",
    "Scores `< 0` can be interpreted as receptor-ligand interactions depleted for group combination."
   ]
  },
  {
   "cell_type": "code",
   "execution_count": null,
   "id": "e07755ac",
   "metadata": {
    "scrolled": true
   },
   "outputs": [],
   "source": [
    "rl.interaction_violin_plot(adata_myo_full,\n",
    "                           min_perc=violin_min_perc,\n",
    "                           save=f\"rl_{violin_out_suffix}_myo.pdf\",\n",
    "                           figsize=violin_figsize,\n",
    "                           dpi=dpi)"
   ]
  },
  {
   "cell_type": "markdown",
   "id": "eba4b68e",
   "metadata": {},
   "source": [
    "## Network\n",
    "Show a network graph of number of interactions between groups."
   ]
  },
  {
   "cell_type": "code",
   "execution_count": null,
   "id": "a93710c4",
   "metadata": {},
   "outputs": [],
   "source": [
    "rl.hairball(adata_myo_full,\n",
    "        min_perc=net_min_perc,\n",
    "        interaction_score=net_interaction_score,\n",
    "        interaction_perc=net_interaction_perc,\n",
    "        save=f\"rl_{net_out_suffix}_myo.pdf\",\n",
    "        title=net_title,\n",
    "        color_min=net_color_min,\n",
    "        color_max=net_color_max,\n",
    "        restrict_to=net_restrict_to,\n",
    "        show_count=net_show_count\n",
    "       )"
   ]
  },
  {
   "cell_type": "code",
   "execution_count": null,
   "id": "7fe4b69f",
   "metadata": {},
   "outputs": [],
   "source": [
    "_ = rl.cyclone(adata=adata_myo_full,\n",
    "               min_perc=net_min_perc,\n",
    "               interaction_score=net_interaction_score,\n",
    "               interaction_perc=net_interaction_perc,\n",
    "               save=f\"rl_cyclone_{net_out_suffix}_myo_nogene.pdf\",\n",
    "               color_min=net_color_min,\n",
    "               color_max=net_color_max,\n",
    "               title=net_title,\n",
    "               directional=net_directional,\n",
    "               sector_size_is_cluster_size=net_sector_size_is_cluster_size,\n",
    "               show_genes=False,\n",
    "               gene_amount=net_gene_amount, dpi=300, colormap='Blues'\n",
    ")"
   ]
  },
  {
   "cell_type": "markdown",
   "id": "e8f52381",
   "metadata": {},
   "source": [
    "## Receptor-ligand connections\n",
    "Show a detailed view on receptor-ligand pairs and their strength between groups.\n",
    "\n",
    "- __receptor-/ ligand score__: Gene enriched (`> 0`) or depleted (`< 0`) for specific group.\n",
    "- __receptor-/ ligand percent__: Percent of cells in a group expressing gene.\n",
    "- __interaction score__: receptor-ligand pair enriched (`> 0`) or depleted (`< 0`) between groups."
   ]
  },
  {
   "cell_type": "code",
   "execution_count": null,
   "id": "1d17e187",
   "metadata": {},
   "outputs": [],
   "source": [
    "con_filter = \"receptor_score > 0 & ligand_score > 0 & interaction_score > 0 & receptor_percent >= 40 & ligand_percent >= 40\" # Conditions to filter the interaction table\n",
    "\n",
    "rl.connectionPlot(adata=adata_myo_full, \n",
    "                  restrict_to=con_restrict_to,\n",
    "                  figsize=con_figsize,\n",
    "                  dpi=dpi,\n",
    "                  connection_alpha=\"interaction_score\",\n",
    "                  save=f\"rl_{con_out_suffix}_myo_subclusters.pdf\",\n",
    "                  title=con_title,\n",
    "                  receptor_cluster_col=\"receptor_cluster\",\n",
    "                  receptor_col=\"receptor_gene\",\n",
    "                  receptor_hue=\"receptor_score\",\n",
    "                  receptor_size=\"receptor_percent\",\n",
    "                  ligand_cluster_col=\"ligand_cluster\",\n",
    "                  ligand_col=\"ligand_gene\",\n",
    "                  ligand_hue=\"ligand_score\",\n",
    "                  ligand_size=\"ligand_percent\",\n",
    "                  filter=con_filter,\n",
    "                  lw_multiplier=con_lw_multiplier,\n",
    "                  wspace=con_wspace,\n",
    "                  line_colors=\"rainbow\")"
   ]
  },
  {
   "cell_type": "code",
   "execution_count": null,
   "id": "17d5a350",
   "metadata": {},
   "outputs": [],
   "source": [
    "interaction_table = rl.get_interactions(adata_myo_full,\n",
    "                                        min_perc = tab_min_perc,\n",
    "                                        interaction_score = tab_interaction_score,\n",
    "                                        interaction_perc = tab_interaction_perc,\n",
    "                                        save = f\"rl_{tab_out_suffix}_myo_subclusters.tsv\").reset_index(drop=True)"
   ]
  },
  {
   "cell_type": "code",
   "execution_count": null,
   "id": "f8de5bd6",
   "metadata": {},
   "outputs": [],
   "source": [
    "interaction_table"
   ]
  },
  {
   "cell_type": "code",
   "execution_count": null,
   "id": "cdaeacb8",
   "metadata": {},
   "outputs": [],
   "source": [
    "# exclude intra-connections and connections with count < 500\n",
    "myo_filtered = filter_cyclone(adata_myo_full, interaction_table, min_count=500)"
   ]
  },
  {
   "cell_type": "code",
   "execution_count": null,
   "id": "44f6b534",
   "metadata": {},
   "outputs": [],
   "source": [
    "_ = rl.cyclone(adata=myo_filtered[myo_filtered.obs['sub_clusters'] != '8'],\n",
    "               min_perc=net_min_perc,\n",
    "               interaction_score=net_interaction_score,\n",
    "               interaction_perc=net_interaction_perc,\n",
    "               save=f\"rl_cyclone_{net_out_suffix}_myo_nogene.pdf\",\n",
    "               color_min=500,\n",
    "               color_max=net_color_max,\n",
    "               title=net_title,\n",
    "               directional=net_directional,\n",
    "               sector_size_is_cluster_size=net_sector_size_is_cluster_size,\n",
    "               show_genes=False,\n",
    "               gene_amount=net_gene_amount, dpi=300, colormap='Blues'\n",
    ")"
   ]
  },
  {
   "cell_type": "code",
   "execution_count": null,
   "id": "9e766b2c",
   "metadata": {},
   "outputs": [],
   "source": [
    "interaction_table = rl.get_interactions(myo_filtered,\n",
    "                                        min_perc = tab_min_perc,\n",
    "                                        interaction_score = tab_interaction_score,\n",
    "                                        interaction_perc = tab_interaction_perc,\n",
    "                                        save = f\"rl_{tab_out_suffix}_myo_subclusters_filtered.tsv\").reset_index(drop=True)"
   ]
  },
  {
   "cell_type": "code",
   "execution_count": null,
   "id": "294064b1",
   "metadata": {},
   "outputs": [],
   "source": [
    "interaction_table"
   ]
  },
  {
   "cell_type": "markdown",
   "id": "c25cfd13",
   "metadata": {},
   "source": [
    "# Atrium and Ventricle"
   ]
  },
  {
   "cell_type": "code",
   "execution_count": null,
   "id": "21ccb164",
   "metadata": {},
   "outputs": [],
   "source": [
    "# Visualize cells in UMAP\n",
    "sc.pl.umap(adata_myo, color = ['celltypes'], title = [], legend_loc = 'right margin')"
   ]
  },
  {
   "cell_type": "markdown",
   "id": "132f4840",
   "metadata": {},
   "source": [
    "## Download receptor-ligand database\n",
    "Provide a path to a table with receptor-ligand interactions. Will be stored in the adata object (`adata.uns['receptor-ligand]['database']`)."
   ]
  },
  {
   "cell_type": "code",
   "execution_count": null,
   "id": "8d351b2f",
   "metadata": {},
   "outputs": [],
   "source": [
    "rl.download_db(adata=adata_myo,\n",
    "           db_path=db_path,\n",
    "           ligand_column='ligand',\n",
    "           receptor_column='receptor',\n",
    "           inplace=True,\n",
    "           overwrite=True)"
   ]
  },
  {
   "cell_type": "markdown",
   "id": "cab71559",
   "metadata": {
    "code_folding": []
   },
   "source": [
    "## Compute interactions\n",
    "Create a table of receptor-ligand interactions between given groups. This table is used for plotting. Will be stored in the adata object (`adata.uns['receptor-ligand']['interactions']`)"
   ]
  },
  {
   "cell_type": "code",
   "execution_count": null,
   "id": "8bf4b57b",
   "metadata": {},
   "outputs": [],
   "source": [
    "rl.calculate_interaction_table(adata=adata_myo,\n",
    "                               cluster_column=\"celltypes\",\n",
    "                               gene_index=None,\n",
    "                               normalize=1000,\n",
    "                               inplace=True,\n",
    "                               overwrite=False)"
   ]
  },
  {
   "cell_type": "markdown",
   "id": "ce8dc5b7",
   "metadata": {},
   "source": [
    "## Plotting"
   ]
  },
  {
   "cell_type": "markdown",
   "id": "889aa022",
   "metadata": {},
   "source": [
    "## Violin\n",
    "Show the distribution of interaction scores for all group combinations.\n",
    "\n",
    "Scores `> 0` can be interpreted as receptor-ligand interactions enriched for group combination.  \n",
    "Scores `< 0` can be interpreted as receptor-ligand interactions depleted for group combination."
   ]
  },
  {
   "cell_type": "code",
   "execution_count": null,
   "id": "a9d8e72d",
   "metadata": {
    "scrolled": true
   },
   "outputs": [],
   "source": [
    "rl.interaction_violin_plot(adata_myo,\n",
    "                           min_perc=violin_min_perc,\n",
    "                           save=f\"rl_{violin_out_suffix}_myo_celltypes.pdf\",\n",
    "                           figsize=violin_figsize,\n",
    "                           dpi=dpi)"
   ]
  },
  {
   "cell_type": "markdown",
   "id": "db766226",
   "metadata": {},
   "source": [
    "## Network\n",
    "Show a network graph of number of interactions between groups."
   ]
  },
  {
   "cell_type": "code",
   "execution_count": null,
   "id": "bbe68451",
   "metadata": {},
   "outputs": [],
   "source": [
    "rl.hairball(adata_myo,\n",
    "            min_perc=net_min_perc,\n",
    "            interaction_score=net_interaction_score,\n",
    "            interaction_perc=net_interaction_perc,\n",
    "            save=f\"rl_{net_out_suffix}_myo_celltypes.pdf\",\n",
    "            title=net_title,\n",
    "            color_min=net_color_min,\n",
    "            color_max=net_color_max,\n",
    "            restrict_to=net_restrict_to,\n",
    "            show_count=net_show_count\n",
    "           )"
   ]
  },
  {
   "cell_type": "code",
   "execution_count": null,
   "id": "7880c095",
   "metadata": {},
   "outputs": [],
   "source": [
    "_ = rl.cyclone(adata=adata_myo,\n",
    "               min_perc=net_min_perc,\n",
    "               interaction_score=net_interaction_score,\n",
    "               interaction_perc=net_interaction_perc,\n",
    "               save=f\"rl_cyclone_{net_out_suffix}_myo_celltypes.pdf\",\n",
    "               color_min=net_color_min,\n",
    "               color_max=net_color_max,\n",
    "               title=net_title,\n",
    "               directional=net_directional,\n",
    "               sector_size_is_cluster_size=net_sector_size_is_cluster_size,\n",
    "               show_genes=net_show_genes,\n",
    "               gene_amount=10\n",
    ")"
   ]
  },
  {
   "cell_type": "markdown",
   "id": "87ec6dd2",
   "metadata": {},
   "source": [
    "## Receptor-ligand connections\n",
    "Show a detailed view on receptor-ligand pairs and their strength between groups.\n",
    "\n",
    "- __receptor-/ ligand score__: Gene enriched (`> 0`) or depleted (`< 0`) for specific group.\n",
    "- __receptor-/ ligand percent__: Percent of cells in a group expressing gene.\n",
    "- __interaction score__: receptor-ligand pair enriched (`> 0`) or depleted (`< 0`) between groups."
   ]
  },
  {
   "cell_type": "code",
   "execution_count": null,
   "id": "a13deb69",
   "metadata": {},
   "outputs": [],
   "source": [
    "con_filter = \"receptor_score > 0 & ligand_score > 0 & interaction_score > 0 & receptor_percent >= 30 & ligand_percent >= 30\" # Conditions to filter the interaction table\n",
    "\n",
    "rl.connectionPlot(adata=adata_myo, \n",
    "                  restrict_to=con_restrict_to,\n",
    "                  figsize=con_figsize,\n",
    "                  dpi=dpi,\n",
    "                  connection_alpha=\"interaction_score\",\n",
    "                  save=f\"rl_{con_out_suffix}_myo_celltypes.pdf\",\n",
    "                  title=con_title,\n",
    "                  receptor_cluster_col=\"receptor_cluster\",\n",
    "                  receptor_col=\"receptor_gene\",\n",
    "                  receptor_hue=\"receptor_score\",\n",
    "                  receptor_size=\"receptor_percent\",\n",
    "                  ligand_cluster_col=\"ligand_cluster\",\n",
    "                  ligand_col=\"ligand_gene\",\n",
    "                  ligand_hue=\"ligand_score\",\n",
    "                  ligand_size=\"ligand_percent\",\n",
    "                  filter=con_filter,\n",
    "                  lw_multiplier=con_lw_multiplier,\n",
    "                  wspace=con_wspace,\n",
    "                  line_colors=\"rainbow\")"
   ]
  },
  {
   "cell_type": "markdown",
   "id": "e694d41f",
   "metadata": {},
   "source": [
    "# Endocardium vs Atrium and Ventricle"
   ]
  },
  {
   "cell_type": "markdown",
   "id": "e0501a25",
   "metadata": {},
   "source": [
    "### Concatenate"
   ]
  },
  {
   "cell_type": "code",
   "execution_count": null,
   "id": "6812ae2c",
   "metadata": {},
   "outputs": [],
   "source": [
    "adata = adata_myo.concatenate(adata_endo)\n",
    "adata"
   ]
  },
  {
   "cell_type": "code",
   "execution_count": null,
   "id": "4d43e1fe",
   "metadata": {},
   "outputs": [],
   "source": [
    "adata.obs.drop(['LISI_score_X_pca', 'LISI_score_X_umap', 'celltypes',\n",
    "                'sub_clusters'], axis=1, inplace=True)"
   ]
  },
  {
   "cell_type": "code",
   "execution_count": null,
   "id": "9a212ae3",
   "metadata": {
    "scrolled": true
   },
   "outputs": [],
   "source": [
    "tools.highly_variable.annot_HVG(adata, hvg_range=(1000, 5000))\n",
    "sc.pp.pca(adata, svd_solver='arpack', use_highly_variable=True)\n",
    "\n",
    "n_pcs = tools.dim_reduction.define_PC(adata)\n",
    "tools.dim_reduction.subset_PCA(adata, start=1, n_pcs=n_pcs)\n",
    "\n",
    "sc.pp.neighbors(adata, n_neighbors=15)\n",
    "# batch correction\n",
    "adata_tmp = tools.norm_correct.batch_correction(adata, \"batch\", \"harmony\", highly_variable=True)\n",
    "# Embed cells into a subspace by UMAP\n",
    "sc.tl.umap(adata, min_dist=0.1, spread=1.5, n_components=2)"
   ]
  },
  {
   "cell_type": "code",
   "execution_count": null,
   "id": "be9e69a0",
   "metadata": {},
   "outputs": [],
   "source": [
    "embedding = \"umap\"   #umap or tsne\n",
    "clustering_method = \"leiden\" #leiden/louvain\n",
    "\n",
    "pl.clustering.search_clustering_parameters(adata, ncols=4, method=clustering_method, \n",
    "                                    embedding=embedding)"
   ]
  },
  {
   "cell_type": "code",
   "execution_count": null,
   "id": "263432ee",
   "metadata": {},
   "outputs": [],
   "source": [
    "#Choose final resolution\n",
    "clustering_column = \"leiden_0.1\"\n",
    "adata.obs[\"clustering\"] = utils.tables.rename_categories(adata.obs[clustering_column])"
   ]
  },
  {
   "cell_type": "code",
   "execution_count": null,
   "id": "24bd71eb",
   "metadata": {},
   "outputs": [],
   "source": [
    "clustering_col = \"clustering\"\n",
    "# Identify markers per cluster (adjust group fraction and fold change to filter genes)\n",
    "tools.marker_genes.run_rank_genes(adata, clustering_col,\n",
    "                                 min_in_group_fraction=0.25,\n",
    "                                 min_fold_change=0.5,\n",
    "                                 max_out_group_fraction=0.8)"
   ]
  },
  {
   "cell_type": "code",
   "execution_count": null,
   "id": "0ff281c0",
   "metadata": {
    "scrolled": true
   },
   "outputs": [],
   "source": [
    "# Marker list from Marco\n",
    "userDB = '../marker_list.csv'\n",
    "tools.celltype_annotation.run_scsa(adata, species=None, user_db=userDB, key='rank_genes_clustering')"
   ]
  },
  {
   "cell_type": "code",
   "execution_count": null,
   "id": "1d2bd15d",
   "metadata": {},
   "outputs": [],
   "source": [
    "adata = adata[~adata.obs['SCSA_pred_celltype'].isin(['Nervous system - 1', 'Blood - Immune cells', 'Blood - red blood cells'])]\n",
    "adata"
   ]
  },
  {
   "cell_type": "code",
   "execution_count": null,
   "id": "3827d65c",
   "metadata": {},
   "outputs": [],
   "source": [
    "# Visualize cells in UMAP\n",
    "sc.pl.umap(adata, color = ['SCSA_pred_celltype'], title = [], legend_loc = 'right margin')"
   ]
  },
  {
   "cell_type": "code",
   "execution_count": null,
   "id": "646dd77b",
   "metadata": {},
   "outputs": [],
   "source": [
    "utils.adata.save_h5ad(adata, 'anndata_myo_endo_rl.h5ad')"
   ]
  },
  {
   "cell_type": "markdown",
   "id": "a4403c95",
   "metadata": {},
   "source": [
    "## Download receptor-ligand database\n",
    "Provide a path to a table with receptor-ligand interactions. Will be stored in the adata object (`adata.uns['receptor-ligand]['database']`)."
   ]
  },
  {
   "cell_type": "code",
   "execution_count": null,
   "id": "341ed547",
   "metadata": {},
   "outputs": [],
   "source": [
    "adata = utils.adata.load_h5ad('anndata_myo_endo_rl.h5ad')\n",
    "adata"
   ]
  },
  {
   "cell_type": "code",
   "execution_count": null,
   "id": "bc805b07",
   "metadata": {},
   "outputs": [],
   "source": [
    "rl.download_db(adata=adata,\n",
    "               db_path=db_path,\n",
    "               ligand_column='ligand',\n",
    "               receptor_column='receptor',\n",
    "               inplace=True,\n",
    "               overwrite=True)"
   ]
  },
  {
   "cell_type": "markdown",
   "id": "3b45be0d",
   "metadata": {
    "code_folding": []
   },
   "source": [
    "## Compute interactions\n",
    "Create a table of receptor-ligand interactions between given groups. This table is used for plotting. Will be stored in the adata object (`adata.uns['receptor-ligand']['interactions']`)"
   ]
  },
  {
   "cell_type": "markdown",
   "id": "a3293155",
   "metadata": {},
   "source": [
    "### Clusters"
   ]
  },
  {
   "cell_type": "code",
   "execution_count": null,
   "id": "361d77e4",
   "metadata": {},
   "outputs": [],
   "source": [
    "rl.calculate_interaction_table(adata=adata,\n",
    "                               cluster_column=\"SCSA_pred_celltype\",\n",
    "                               gene_index=None,\n",
    "                               normalize=1000,\n",
    "                               inplace=True,\n",
    "                               overwrite=True)"
   ]
  },
  {
   "cell_type": "markdown",
   "id": "3cba0275",
   "metadata": {},
   "source": [
    "# Plotting"
   ]
  },
  {
   "cell_type": "markdown",
   "id": "9d36bcaa",
   "metadata": {},
   "source": [
    "## Violin\n",
    "Show the distribution of interaction scores for all group combinations.\n",
    "\n",
    "Scores `> 0` can be interpreted as receptor-ligand interactions enriched for group combination.  \n",
    "Scores `< 0` can be interpreted as receptor-ligand interactions depleted for group combination."
   ]
  },
  {
   "cell_type": "code",
   "execution_count": null,
   "id": "d9717f37",
   "metadata": {
    "scrolled": true
   },
   "outputs": [],
   "source": [
    "rl.interaction_violin_plot(adata,\n",
    "                           min_perc=violin_min_perc,\n",
    "                           save=f\"rl_{violin_out_suffix}_EndovsMyo.pdf\",\n",
    "                           figsize=violin_figsize,\n",
    "                           dpi=dpi)"
   ]
  },
  {
   "cell_type": "markdown",
   "id": "27847363",
   "metadata": {},
   "source": [
    "## Network\n",
    "Show a network graph of number of interactions between groups."
   ]
  },
  {
   "cell_type": "code",
   "execution_count": null,
   "id": "90fd0b13",
   "metadata": {},
   "outputs": [],
   "source": [
    "rl.hairball(adata,\n",
    "            min_perc=net_min_perc,\n",
    "            interaction_score=net_interaction_score,\n",
    "            interaction_perc=net_interaction_perc,\n",
    "            save=f\"rl_{net_out_suffix}_EndovsMyo.pdf\",\n",
    "            title=net_title,\n",
    "            color_min=net_color_min,\n",
    "            color_max=net_color_max,\n",
    "            restrict_to=net_restrict_to,\n",
    "            show_count=net_show_count\n",
    "           )"
   ]
  },
  {
   "cell_type": "code",
   "execution_count": null,
   "id": "279353e5",
   "metadata": {},
   "outputs": [],
   "source": [
    "_ = rl.cyclone(adata=adata,\n",
    "               min_perc=net_min_perc,\n",
    "               interaction_score=net_interaction_score,\n",
    "               interaction_perc=net_interaction_perc,\n",
    "               save=f\"rl_cyclone_{net_out_suffix}_EndovsMyo.pdf\",\n",
    "               color_min=net_color_min,\n",
    "               color_max=net_color_max,\n",
    "               title=net_title,\n",
    "               directional=net_directional,\n",
    "               sector_size_is_cluster_size=net_sector_size_is_cluster_size,\n",
    "               show_genes=net_show_genes,\n",
    "               gene_amount=10, dpi=300\n",
    ")"
   ]
  },
  {
   "cell_type": "code",
   "execution_count": null,
   "id": "95cfd3b0",
   "metadata": {},
   "outputs": [],
   "source": [
    "_ = rl.cyclone(adata=adata,\n",
    "               min_perc=net_min_perc,\n",
    "               interaction_score=net_interaction_score,\n",
    "               interaction_perc=net_interaction_perc,\n",
    "               save=f\"rl_cyclone_{net_out_suffix}_EndovsMyo_nogene.pdf\",\n",
    "               color_min=net_color_min,\n",
    "               color_max=net_color_max,\n",
    "               title=net_title,\n",
    "               directional=net_directional,\n",
    "               sector_size_is_cluster_size=net_sector_size_is_cluster_size,\n",
    "               show_genes=False,\n",
    "               gene_amount=10, dpi=300, colormap='Blues'\n",
    ")"
   ]
  },
  {
   "cell_type": "markdown",
   "id": "1b4d62ca",
   "metadata": {},
   "source": [
    "## Receptor-ligand connections\n",
    "Show a detailed view on receptor-ligand pairs and their strength between groups.\n",
    "\n",
    "- __receptor-/ ligand score__: Gene enriched (`> 0`) or depleted (`< 0`) for specific group.\n",
    "- __receptor-/ ligand percent__: Percent of cells in a group expressing gene.\n",
    "- __interaction score__: receptor-ligand pair enriched (`> 0`) or depleted (`< 0`) between groups."
   ]
  },
  {
   "cell_type": "markdown",
   "id": "a4c8833c",
   "metadata": {},
   "source": [
    "### Endocardium vs Atrium"
   ]
  },
  {
   "cell_type": "code",
   "execution_count": null,
   "id": "1e62127f",
   "metadata": {},
   "outputs": [],
   "source": [
    "con_filter = \"receptor_score > 0 & ligand_score > 0 & interaction_score > 0 & receptor_percent >= 40 & ligand_percent >= 40\" # Conditions to filter the interaction table\n",
    "\n",
    "rl.connectionPlot(adata=adata, \n",
    "                  restrict_to=['Endocardium', 'Myocardium - Atrium'],\n",
    "                  figsize=con_figsize,\n",
    "                  dpi=dpi,\n",
    "                  connection_alpha=\"interaction_score\",\n",
    "                  save=f\"rl_{con_out_suffix}_EndovsAtrium.pdf\",\n",
    "                  title=con_title,\n",
    "                  receptor_cluster_col=\"receptor_cluster\",\n",
    "                  receptor_col=\"receptor_gene\",\n",
    "                  receptor_hue=\"receptor_score\",\n",
    "                  receptor_size=\"receptor_percent\",\n",
    "                  ligand_cluster_col=\"ligand_cluster\",\n",
    "                  ligand_col=\"ligand_gene\",\n",
    "                  ligand_hue=\"ligand_score\",\n",
    "                  ligand_size=\"ligand_percent\",\n",
    "                  filter=con_filter,\n",
    "                  lw_multiplier=con_lw_multiplier,\n",
    "                  wspace=con_wspace,\n",
    "                  line_colors=\"rainbow\")"
   ]
  },
  {
   "cell_type": "code",
   "execution_count": null,
   "id": "ea1bbd8a",
   "metadata": {},
   "outputs": [],
   "source": [
    "interaction_table = rl.get_interactions(adata,\n",
    "                                        min_perc = tab_min_perc,\n",
    "                                        interaction_score = tab_interaction_score,\n",
    "                                        interaction_perc = tab_interaction_perc).reset_index(drop=True)\n",
    "interaction_table"
   ]
  },
  {
   "cell_type": "code",
   "execution_count": null,
   "id": "49281a0c",
   "metadata": {
    "scrolled": true
   },
   "outputs": [],
   "source": [
    "# exclude intra-connections and connections with count < 500\n",
    "\n",
    "myo_endo_filtered = filter_cyclone(adata, interaction_table, min_count=0)"
   ]
  },
  {
   "cell_type": "code",
   "execution_count": null,
   "id": "b9aaf3b1",
   "metadata": {},
   "outputs": [],
   "source": [
    "interaction_table = rl.get_interactions(myo_endo_filtered,\n",
    "                                        min_perc = tab_min_perc,\n",
    "                                        interaction_score = tab_interaction_score,\n",
    "                                        interaction_perc = tab_interaction_perc,\n",
    "                                        group_a = ['Endocardium'],\n",
    "                                        group_b = ['Myocardium - Atrium'],\n",
    "                                        save = f\"rl_{tab_out_suffix}_EndovsAtrium_filtered.tsv\"\n",
    "                                       )"
   ]
  },
  {
   "cell_type": "code",
   "execution_count": null,
   "id": "ffa58c30",
   "metadata": {},
   "outputs": [],
   "source": [
    "interaction_table"
   ]
  },
  {
   "cell_type": "code",
   "execution_count": null,
   "id": "354a3da5",
   "metadata": {},
   "outputs": [],
   "source": [
    "con_filter = \"receptor_score > 0 & ligand_score > 0 & interaction_score > 0 & receptor_percent >= 5 & ligand_percent >= 5\" # Conditions to filter the interaction table\n",
    "\n",
    "rl.connectionPlot(adata=myo_endo_filtered, \n",
    "                  restrict_to=['Endocardium', 'Myocardium - Atrium'],\n",
    "                  figsize=con_figsize,\n",
    "                  dpi=dpi,\n",
    "                  connection_alpha=\"interaction_score\",\n",
    "                  save=f\"rl_{con_out_suffix}_EndovsAtrium.pdf\",\n",
    "                  title=con_title,\n",
    "                  receptor_cluster_col=\"receptor_cluster\",\n",
    "                  receptor_col=\"receptor_gene\",\n",
    "                  receptor_hue=\"receptor_score\",\n",
    "                  receptor_size=\"receptor_percent\",\n",
    "                  ligand_cluster_col=\"ligand_cluster\",\n",
    "                  ligand_col=\"ligand_gene\",\n",
    "                  ligand_hue=\"ligand_score\",\n",
    "                  ligand_size=\"ligand_percent\",\n",
    "                  filter=con_filter,\n",
    "                  lw_multiplier=con_lw_multiplier,\n",
    "                  wspace=con_wspace,\n",
    "                  line_colors=\"rainbow\")"
   ]
  },
  {
   "cell_type": "markdown",
   "id": "bc741cb9",
   "metadata": {},
   "source": [
    "### Endocardium vs Ventricle"
   ]
  },
  {
   "cell_type": "code",
   "execution_count": null,
   "id": "f16cf385",
   "metadata": {},
   "outputs": [],
   "source": [
    "con_filter = \"receptor_score > 0 & ligand_score > 0 & interaction_score > 10 & receptor_percent >= 5 & ligand_percent >= 5\" # Conditions to filter the interaction table\n",
    "\n",
    "rl.connectionPlot(adata=myo_endo_filtered, \n",
    "                  restrict_to=['Endocardium', 'Myocardium - Ventricle'],\n",
    "                  figsize=con_figsize,\n",
    "                  dpi=dpi,\n",
    "                  connection_alpha=\"interaction_score\",\n",
    "                  save=f\"rl_{con_out_suffix}_EndovsVentricle.pdf\",\n",
    "                  title=con_title,\n",
    "                  receptor_cluster_col=\"receptor_cluster\",\n",
    "                  receptor_col=\"receptor_gene\",\n",
    "                  receptor_hue=\"receptor_score\",\n",
    "                  receptor_size=\"receptor_percent\",\n",
    "                  ligand_cluster_col=\"ligand_cluster\",\n",
    "                  ligand_col=\"ligand_gene\",\n",
    "                  ligand_hue=\"ligand_score\",\n",
    "                  ligand_size=\"ligand_percent\",\n",
    "                  filter=con_filter,\n",
    "                  lw_multiplier=con_lw_multiplier,\n",
    "                  wspace=con_wspace,\n",
    "                  line_colors=\"rainbow\")"
   ]
  },
  {
   "cell_type": "code",
   "execution_count": null,
   "id": "4dcb94b4",
   "metadata": {},
   "outputs": [],
   "source": [
    "interaction_table = rl.get_interactions(myo_endo_filtered,\n",
    "                                        min_perc = tab_min_perc,\n",
    "                                        interaction_score = tab_interaction_score,\n",
    "                                        interaction_perc = tab_interaction_perc,\n",
    "                                        group_a = ['Endocardium'],\n",
    "                                        group_b = ['Myocardium - Ventricle'],\n",
    "                                        save = f\"rl_{tab_out_suffix}_EndovsVentricle_filtered.tsv\")"
   ]
  },
  {
   "cell_type": "code",
   "execution_count": null,
   "id": "9d336184",
   "metadata": {},
   "outputs": [],
   "source": [
    "interaction_table"
   ]
  },
  {
   "cell_type": "code",
   "execution_count": null,
   "id": "29adc946",
   "metadata": {},
   "outputs": [],
   "source": [
    "con_filter = \"ligand_gene == 'nrg1' | \\\n",
    "            ligand_gene == 'nrg2a' | \\\n",
    "            ligand_gene == 'nrg2b' | \\\n",
    "            ligand_gene == 'nrg3b' | \\\n",
    "              receptor_gene == 'erbb3a' | \\\n",
    "              receptor_gene == 'erbb3b' | \\\n",
    "              receptor_gene == 'erbb4b'\"  # Conditions to filter the interaction table\n",
    "\n",
    "con_figsize = (5, 3)\n",
    "\n",
    "rl.connectionPlot(adata=myo_endo_filtered, \n",
    "                  restrict_to=['Endocardium', 'Myocardium - Ventricle'],\n",
    "                  figsize=con_figsize,\n",
    "                  dpi=dpi,\n",
    "                  connection_alpha=\"interaction_score\",\n",
    "                  save=f\"rl_{con_out_suffix}_EndovsVentricle_neuregulins.pdf\",\n",
    "                  title=con_title,\n",
    "                  receptor_cluster_col=\"receptor_cluster\",\n",
    "                  receptor_col=\"receptor_gene\",\n",
    "                  receptor_hue=\"receptor_score\",\n",
    "                  receptor_size=\"receptor_percent\",\n",
    "                  ligand_cluster_col=\"ligand_cluster\",\n",
    "                  ligand_col=\"ligand_gene\",\n",
    "                  ligand_hue=\"ligand_score\",\n",
    "                  ligand_size=\"ligand_percent\",\n",
    "                  filter=con_filter,\n",
    "                  lw_multiplier=con_lw_multiplier,\n",
    "                  wspace=con_wspace,\n",
    "                  line_colors=\"rainbow\")"
   ]
  },
  {
   "cell_type": "code",
   "execution_count": null,
   "id": "97b68a30",
   "metadata": {},
   "outputs": [],
   "source": [
    "con_filter = \"ligand_gene == 'nrg1' | \\\n",
    "            ligand_gene == 'nrg2a' | \\\n",
    "            ligand_gene == 'nrg2b' | \\\n",
    "              receptor_gene == 'erbb3a' | \\\n",
    "              receptor_gene == 'erbb3b' | \\\n",
    "              receptor_gene == 'erbb4b'\"  # Conditions to filter the interaction table\n",
    "\n",
    "con_figsize = (5, 3)\n",
    "\n",
    "rl.connectionPlot(adata=myo_endo_filtered, \n",
    "                  restrict_to=['Endocardium', 'Myocardium - Atrium'],\n",
    "                  figsize=con_figsize,\n",
    "                  dpi=dpi,\n",
    "                  connection_alpha=\"interaction_score\",\n",
    "                  save=f\"rl_{con_out_suffix}_EndovsAtrium_neuregulins.pdf\",\n",
    "                  title=con_title,\n",
    "                  receptor_cluster_col=\"receptor_cluster\",\n",
    "                  receptor_col=\"receptor_gene\",\n",
    "                  receptor_hue=\"receptor_score\",\n",
    "                  receptor_size=\"receptor_percent\",\n",
    "                  ligand_cluster_col=\"ligand_cluster\",\n",
    "                  ligand_col=\"ligand_gene\",\n",
    "                  ligand_hue=\"ligand_score\",\n",
    "                  ligand_size=\"ligand_percent\",\n",
    "                  filter=con_filter,\n",
    "                  lw_multiplier=con_lw_multiplier,\n",
    "                  wspace=con_wspace,\n",
    "                  line_colors=\"rainbow\")"
   ]
  }
 ],
 "metadata": {
  "kernelspec": {
   "display_name": "sctoolbox",
   "language": "python",
   "name": "sctoolbox"
  },
  "language_info": {
   "codemirror_mode": {
    "name": "ipython",
    "version": 3
   },
   "file_extension": ".py",
   "mimetype": "text/x-python",
   "name": "python",
   "nbconvert_exporter": "python",
   "pygments_lexer": "ipython3",
   "version": "3.12.9"
  }
 },
 "nbformat": 4,
 "nbformat_minor": 5
}

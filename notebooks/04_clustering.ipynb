{
 "cells": [
  {
   "cell_type": "code",
   "execution_count": null,
   "metadata": {},
   "outputs": [],
   "source": [
    "import warnings\n",
    "warnings.simplefilter(action='ignore', category=FutureWarning)"
   ]
  },
  {
   "cell_type": "code",
   "execution_count": null,
   "metadata": {
    "hide_input": true,
    "init_cell": true
   },
   "outputs": [],
   "source": [
    "import sctoolbox\n",
    "from sctoolbox.utils.jupyter import bgcolor"
   ]
  },
  {
   "cell_type": "markdown",
   "metadata": {},
   "source": [
    "# Embedding and clustering\n",
    "<hr style=\"border:2px solid black\"> </hr>"
   ]
  },
  {
   "cell_type": "markdown",
   "metadata": {},
   "source": [
    "<h1><center>⬐ Fill in input data here ⬎</center></h1>"
   ]
  },
  {
   "cell_type": "code",
   "execution_count": null,
   "metadata": {
    "hide_input": false,
    "init_cell": true
   },
   "outputs": [],
   "source": [
    "%bgcolor PowderBlue\n",
    "\n",
    "#Column to show in UMAPs\n",
    "condition_column = \"timepoint\"\n",
    "\n",
    "#Number of threads to use for multiprocessing\n",
    "threads = 4\n",
    "\n",
    "# Search embedding parameters (or set parameters later)\n",
    "embedding = \"umap\"   #umap or tsne\n",
    "search_parameters = True\n",
    "dist_range = (0.1, 1, 0.2) # Set min_dist range for umap\n",
    "spread_range = (1.0, 2.0, 0.5) # Set spread range for umap\n",
    "n_components = 2 # Number of components for umap\n",
    "perplexity_range = (30, 60, 10)        # perplexity range for tsne\n",
    "learning_rate_range = (600, 1000, 200)   # learning_rate for tsne\n",
    "\n",
    "\n",
    "# Search different clustering resolutions\n",
    "search_clustering_parameters = True\n",
    "clustering_method = \"leiden\" #leiden/louvain"
   ]
  },
  {
   "cell_type": "markdown",
   "metadata": {},
   "source": [
    "<hr style=\"border:2px solid black\"> </hr>"
   ]
  },
  {
   "cell_type": "markdown",
   "metadata": {},
   "source": [
    "## Loading packages"
   ]
  },
  {
   "cell_type": "code",
   "execution_count": null,
   "metadata": {
    "hide_input": false
   },
   "outputs": [],
   "source": [
    "import scanpy as sc\n",
    "import matplotlib.pyplot as plt\n",
    "import sctoolbox.utils as utils\n",
    "import sctoolbox.tools as tools\n",
    "import sctoolbox.plotting as pl\n",
    "import sctoolbox.tools.marker_genes as marker_genes\n",
    "from sctoolbox._settings import settings\n",
    "\n",
    "settings.settings_from_config(\"config.yaml\", key=\"04\")\n",
    "\n",
    "# Set additional options for figures\n",
    "sc.set_figure_params(vector_friendly=True, dpi_save=600, scanpy=False)"
   ]
  },
  {
   "cell_type": "markdown",
   "metadata": {},
   "source": [
    "-----------"
   ]
  },
  {
   "cell_type": "markdown",
   "metadata": {},
   "source": [
    "## Load anndata from previous notebook"
   ]
  },
  {
   "cell_type": "code",
   "execution_count": null,
   "metadata": {
    "hide_input": false
   },
   "outputs": [],
   "source": [
    "adata = utils.adata.load_h5ad(\"anndata_3.h5ad\")\n",
    "display(adata)"
   ]
  },
  {
   "cell_type": "markdown",
   "metadata": {},
   "source": [
    "------------"
   ]
  },
  {
   "cell_type": "code",
   "execution_count": null,
   "metadata": {},
   "outputs": [],
   "source": [
    "# sort by timepoint\n",
    "adata_tmp = adata.copy()\n",
    "tmp_obs = adata_tmp.obs.copy()\n",
    "tmp_obs['tmp_1'] = tmp_obs['timepoint'].str.extract('([\\d]+)').astype(int)\n",
    "tmp_obs['tmp_2'] = tmp_obs['timepoint'].str.extract('([A-Za-z]+)')\n",
    "cell_ids = (tmp_obs.sort_values(by=['tmp_2', 'tmp_1'], ascending=(False, True))).index\n",
    "adata_tmp = adata_tmp[cell_ids]\n",
    "adata_tmp.obs['timepoint'] = adata_tmp.obs['timepoint'].cat.reorder_categories(adata_tmp.obs['timepoint'].unique().to_list())\n",
    "adata = adata_tmp"
   ]
  },
  {
   "cell_type": "markdown",
   "metadata": {},
   "source": [
    "## Calculate UMAP/TSNE and find best setting"
   ]
  },
  {
   "cell_type": "markdown",
   "metadata": {},
   "source": [
    "- NOTE: min_dist: distances between points to make the plot looks more 'clustered'\n",
    "- NOTE: spread: The effective scale of embedded points value be de default is 1"
   ]
  },
  {
   "cell_type": "code",
   "execution_count": null,
   "metadata": {
    "editable": false,
    "hide_input": false
   },
   "outputs": [],
   "source": [
    "if search_parameters:\n",
    "    if embedding == \"umap\":\n",
    "        pl.search_umap_parameters(adata, \n",
    "                                  min_dist_range=dist_range,\n",
    "                                  spread_range=spread_range,\n",
    "                                  color=condition_column,\n",
    "                                  n_components=n_components,\n",
    "                                  threads=threads,\n",
    "                                  save=\"UMAP_parameter_search.pdf\")\n",
    "    elif embedding == \"tsne\":\n",
    "        pl.search_tsne_parameters(adata, \n",
    "                                  perplexity_range=perplexity_range,\n",
    "                                  learning_rate_range=learning_rate_range,\n",
    "                                  color=condition_column,\n",
    "                                  threads=threads,\n",
    "                                  save=\"TSNE_parameter_search.pdf\")"
   ]
  },
  {
   "cell_type": "code",
   "execution_count": null,
   "metadata": {
    "hide_input": false,
    "init_cell": true
   },
   "outputs": [],
   "source": [
    "%bgcolor PowderBlue\n",
    "\n",
    "# Final choice of spread / dist for umap\n",
    "min_dist = 0.1\n",
    "spread = 1.5\n",
    "\n",
    "# Final choice of perplexity_range / perplexity_range for tsne\n",
    "perplexity = 50\n",
    "learning_rate = 800"
   ]
  },
  {
   "cell_type": "code",
   "execution_count": null,
   "metadata": {
    "editable": false
   },
   "outputs": [],
   "source": [
    "# Calculate final embedding\n",
    "if embedding == \"umap\":\n",
    "    sc.tl.umap(adata, min_dist=min_dist, spread=spread, n_components=n_components)\n",
    "elif embedding == \"tsne\":\n",
    "    sc.tl.tsne(adata, perplexity=perplexity, learning_rate=learning_rate)"
   ]
  },
  {
   "cell_type": "markdown",
   "metadata": {},
   "source": [
    "## Plot final embedding with quality measures"
   ]
  },
  {
   "cell_type": "code",
   "execution_count": null,
   "metadata": {},
   "outputs": [],
   "source": [
    "# Adjust qc columns to show in plot\n",
    "qc_columns = [condition_column] + list(adata.uns[\"sctoolbox\"][\"obs_metrics\"])"
   ]
  },
  {
   "cell_type": "code",
   "execution_count": null,
   "metadata": {
    "editable": false
   },
   "outputs": [],
   "source": [
    "# Plot final umap/tsne with quality measures\n",
    "sc.pl.embedding(adata, basis=embedding, color=qc_columns, ncols=3, show=False)\n",
    "pl._save_figure(\"embedding_quality.pdf\")"
   ]
  },
  {
   "cell_type": "code",
   "execution_count": null,
   "metadata": {
    "editable": false,
    "hide_input": false
   },
   "outputs": [],
   "source": [
    "# Plot distribution of samples in embedding\n",
    "_ = pl.plot_group_embeddings(adata, groupby=condition_column, embedding=embedding,\n",
    "                             save=\"embedding_sample_distribution.pdf\")"
   ]
  },
  {
   "cell_type": "markdown",
   "metadata": {},
   "source": [
    "----------"
   ]
  },
  {
   "cell_type": "markdown",
   "metadata": {},
   "source": [
    "## Cell clustering\n",
    "- NOTE: resolution: controls the coarseness of the clustering. Higher values lead to more clusters."
   ]
  },
  {
   "cell_type": "code",
   "execution_count": null,
   "metadata": {
    "editable": false,
    "hide_input": false
   },
   "outputs": [],
   "source": [
    "if search_clustering_parameters:\n",
    "    pl.search_clustering_parameters(adata, ncols=4, method=clustering_method, \n",
    "                                    embedding=embedding,\n",
    "                                    save=\"clustering_search.png\")"
   ]
  },
  {
   "cell_type": "code",
   "execution_count": null,
   "metadata": {
    "hide_input": false,
    "init_cell": true
   },
   "outputs": [],
   "source": [
    "%bgcolor PowderBlue\n",
    "\n",
    "#Choose final resolution\n",
    "clustering_column = \"leiden_0.1\""
   ]
  },
  {
   "cell_type": "markdown",
   "metadata": {},
   "source": [
    "### Reclustering"
   ]
  },
  {
   "cell_type": "markdown",
   "metadata": {},
   "source": [
    "Here you can use the `tools.recluster` function to iteratively adjust clustering"
   ]
  },
  {
   "cell_type": "code",
   "execution_count": null,
   "metadata": {},
   "outputs": [],
   "source": [
    "tools.recluster(adata, clustering_column, [\"1\", \"3\"], task=\"join\", embedding=embedding)\n",
    "clustering_column = \"leiden_0.5_recluster\"  #update clustering column"
   ]
  },
  {
   "cell_type": "code",
   "execution_count": null,
   "metadata": {},
   "outputs": [],
   "source": [
    "tools.recluster(adata, clustering_column, [\"3\"], task=\"split\", resolution=0.15, embedding=embedding,\n",
    "                   key_added=clustering_column)  #overwrite column"
   ]
  },
  {
   "cell_type": "code",
   "execution_count": null,
   "metadata": {
    "editable": false,
    "hide_input": false
   },
   "outputs": [],
   "source": [
    "#Create final clustering\n",
    "adata.obs[\"clustering\"] = utils.rename_categories(adata.obs[clustering_column])\n",
    "adata.uns[\"sctoolbox\"][\"obs_metrics\"] = list(adata.uns[\"sctoolbox\"][\"obs_metrics\"]) + [\"clustering\"]"
   ]
  },
  {
   "cell_type": "markdown",
   "metadata": {},
   "source": [
    "### Final clustering of cells"
   ]
  },
  {
   "cell_type": "code",
   "execution_count": null,
   "metadata": {
    "editable": false,
    "hide_input": false
   },
   "outputs": [],
   "source": [
    "#Plot final leiden\n",
    "sc.pl.embedding(adata, basis=\"X_\" + embedding, color=[condition_column, \"clustering\"], show=False)\n",
    "pl._save_figure(\"embedding_clustering.pdf\")"
   ]
  },
  {
   "cell_type": "markdown",
   "metadata": {},
   "source": [
    "---------"
   ]
  },
  {
   "cell_type": "markdown",
   "metadata": {},
   "source": [
    "## Plot distribution of cells across clusters"
   ]
  },
  {
   "cell_type": "code",
   "execution_count": null,
   "metadata": {
    "editable": false,
    "hide_input": false
   },
   "outputs": [],
   "source": [
    "_ = pl.n_cells_barplot(adata, \"clustering\", groupby=condition_column, \n",
    "                       save=\"cell_distribution_barplot.pdf\")"
   ]
  },
  {
   "cell_type": "markdown",
   "metadata": {},
   "source": [
    "------"
   ]
  },
  {
   "cell_type": "markdown",
   "metadata": {},
   "source": [
    "## Generating 3D Object with UMAP coordinates in HTML"
   ]
  },
  {
   "cell_type": "code",
   "execution_count": null,
   "metadata": {},
   "outputs": [],
   "source": [
    "#plot 3D html for the \"clustering\" adata.obs, change to individual leiden or other columns if needed\n",
    "column_3d = \"clustering\""
   ]
  },
  {
   "cell_type": "code",
   "execution_count": null,
   "metadata": {
    "editable": false,
    "hide_input": false
   },
   "outputs": [],
   "source": [
    "if embedding == \"umap\" and n_components > 2:\n",
    "    pl.plot_3D_UMAP(adata, column_3d, save=f\"umap_3d_{column_3d}\")\n",
    "    html_file = sctoolbox.settings.full_figure_prefix + f\"umap_3d_{column_3d}.html\"\n",
    "    \n",
    "    from IPython.display import IFrame\n",
    "    display(IFrame(src=html_file, width=800, height=400))"
   ]
  },
  {
   "cell_type": "markdown",
   "metadata": {},
   "source": [
    "---------"
   ]
  },
  {
   "cell_type": "markdown",
   "metadata": {},
   "source": [
    "## Saving adata for next notebook"
   ]
  },
  {
   "cell_type": "code",
   "execution_count": null,
   "metadata": {
    "editable": false,
    "hide_input": false
   },
   "outputs": [],
   "source": [
    "utils.save_h5ad(adata, \"anndata_4.h5ad\")"
   ]
  },
  {
   "cell_type": "code",
   "execution_count": null,
   "metadata": {
    "editable": false
   },
   "outputs": [],
   "source": [
    "sctoolbox.settings.close_logfile()"
   ]
  }
 ],
 "metadata": {
  "kernelspec": {
   "display_name": "sctoolbox",
   "language": "python",
   "name": "sctoolbox"
  },
  "language_info": {
   "codemirror_mode": {
    "name": "ipython",
    "version": 3
   },
   "file_extension": ".py",
   "mimetype": "text/x-python",
   "name": "python",
   "nbconvert_exporter": "python",
   "pygments_lexer": "ipython3",
   "version": "3.12.9"
  }
 },
 "nbformat": 4,
 "nbformat_minor": 4
}
